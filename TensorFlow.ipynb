{
 "cells": [
  {
   "cell_type": "markdown",
   "metadata": {},
   "source": [
    "# Fashion MNIST via TensorFlow #"
   ]
  },
  {
   "cell_type": "markdown",
   "metadata": {},
   "source": [
    "## Preliminaries ##"
   ]
  },
  {
   "cell_type": "code",
   "execution_count": 1,
   "metadata": {
    "scrolled": true
   },
   "outputs": [],
   "source": [
    "import tensorflow as tf\n",
    "from tensorflow import keras\n",
    "from tensorflow.keras import Sequential\n",
    "from tensorflow.keras import regularizers\n",
    "from tensorflow.keras.layers import Flatten, Dense, Dropout\n",
    "from tensorflow.keras.layers import Conv2D, MaxPooling2D\n",
    "from tensorflow.keras.layers import BatchNormalization\n",
    "\n",
    "import numpy as np\n",
    "import matplotlib.pyplot as plt\n",
    "import _pickle\n",
    "import gzip\n",
    "\n",
    "with gzip.open('./data/fashion-mnist.pkl.gz', 'rb') as fp:\n",
    "    (train_images, train_labels, test_images, test_labels) = \\\n",
    "    _pickle.load(fp)"
   ]
  },
  {
   "cell_type": "code",
   "execution_count": 2,
   "metadata": {},
   "outputs": [],
   "source": [
    "train_images_reshape = train_images.reshape(train_images.shape[0],\n",
    "                                            28, 28, 1)\n",
    "test_images_reshape = test_images.reshape(test_images.shape[0],\n",
    "                                         28, 28, 1)"
   ]
  },
  {
   "cell_type": "markdown",
   "metadata": {},
   "source": [
    "## Simplistic Network ##"
   ]
  },
  {
   "cell_type": "code",
   "execution_count": 3,
   "metadata": {},
   "outputs": [
    {
     "name": "stdout",
     "output_type": "stream",
     "text": [
      "WARNING:tensorflow:From C:\\tools\\Anaconda3\\lib\\site-packages\\tensorflow\\python\\ops\\init_ops.py:1251: calling VarianceScaling.__init__ (from tensorflow.python.ops.init_ops) with dtype is deprecated and will be removed in a future version.\n",
      "Instructions for updating:\n",
      "Call initializer instance with the dtype argument instead of passing it to the constructor\n"
     ]
    }
   ],
   "source": [
    "model = Sequential([\n",
    "    Flatten(input_shape=(28,28)),\n",
    "    Dense(128, activation='relu'),\n",
    "    Dense(10, activation='softmax')\n",
    "])"
   ]
  },
  {
   "cell_type": "code",
   "execution_count": 4,
   "metadata": {},
   "outputs": [],
   "source": [
    "model.compile(optimizer='adam',\n",
    "             loss='sparse_categorical_crossentropy',\n",
    "             metrics=['accuracy'])"
   ]
  },
  {
   "cell_type": "code",
   "execution_count": 5,
   "metadata": {
    "scrolled": true
   },
   "outputs": [
    {
     "name": "stdout",
     "output_type": "stream",
     "text": [
      "Train on 60000 samples, validate on 10000 samples\n",
      "Epoch 1/10\n",
      "60000/60000 [==============================] - 17s 275us/sample - loss: 0.5025 - acc: 0.8247 - val_loss: 0.4094 - val_acc: 0.8529\n",
      "Epoch 2/10\n",
      "60000/60000 [==============================] - 12s 202us/sample - loss: 0.3736 - acc: 0.8647 - val_loss: 0.3917 - val_acc: 0.8598\n",
      "Epoch 3/10\n",
      "60000/60000 [==============================] - 5s 79us/sample - loss: 0.3354 - acc: 0.8781 - val_loss: 0.3638 - val_acc: 0.8705\n",
      "Epoch 4/10\n",
      "60000/60000 [==============================] - 5s 85us/sample - loss: 0.3112 - acc: 0.8859 - val_loss: 0.3531 - val_acc: 0.8733\n",
      "Epoch 5/10\n",
      "60000/60000 [==============================] - 6s 98us/sample - loss: 0.2941 - acc: 0.8905 - val_loss: 0.3481 - val_acc: 0.8743\n",
      "Epoch 6/10\n",
      "60000/60000 [==============================] - 5s 77us/sample - loss: 0.2814 - acc: 0.8941 - val_loss: 0.3421 - val_acc: 0.8771\n",
      "Epoch 7/10\n",
      "60000/60000 [==============================] - 7s 111us/sample - loss: 0.2676 - acc: 0.9008 - val_loss: 0.3485 - val_acc: 0.8719\n",
      "Epoch 8/10\n",
      "60000/60000 [==============================] - 9s 151us/sample - loss: 0.2551 - acc: 0.9042 - val_loss: 0.3373 - val_acc: 0.8807\n",
      "Epoch 9/10\n",
      "60000/60000 [==============================] - 17s 289us/sample - loss: 0.2455 - acc: 0.9086 - val_loss: 0.3341 - val_acc: 0.8819\n",
      "Epoch 10/10\n",
      "60000/60000 [==============================] - 20s 330us/sample - loss: 0.2367 - acc: 0.9108 - val_loss: 0.3290 - val_acc: 0.8860\n"
     ]
    },
    {
     "data": {
      "text/plain": [
       "<tensorflow.python.keras.callbacks.History at 0x28b1c4bad30>"
      ]
     },
     "execution_count": 5,
     "metadata": {},
     "output_type": "execute_result"
    }
   ],
   "source": [
    "model.fit(train_images, train_labels,\n",
    "          validation_data=(test_images, test_labels),\n",
    "          epochs=10)"
   ]
  },
  {
   "cell_type": "code",
   "execution_count": 7,
   "metadata": {},
   "outputs": [
    {
     "data": {
      "text/plain": [
       "'channels_last'"
      ]
     },
     "execution_count": 7,
     "metadata": {},
     "output_type": "execute_result"
    }
   ],
   "source": [
    "keras.backend.image_data_format()"
   ]
  },
  {
   "cell_type": "markdown",
   "metadata": {},
   "source": [
    "## Model 2 ##"
   ]
  },
  {
   "cell_type": "code",
   "execution_count": 8,
   "metadata": {},
   "outputs": [],
   "source": [
    "model2 = Sequential([\n",
    "    Conv2D(32, [5, 5], input_shape=(28, 28, 1), activation='relu'),\n",
    "    BatchNormalization(axis=-1),\n",
    "    Conv2D(32, [5, 5], activation='relu'),\n",
    "    BatchNormalization(axis=-1),\n",
    "    MaxPooling2D(pool_size=(2,2)),\n",
    "    Dropout(0.25),\n",
    "    Conv2D(64, [5, 5], activation='relu'),\n",
    "    BatchNormalization(axis=-1),\n",
    "    Conv2D(64, [5, 5], activation='relu'),\n",
    "    BatchNormalization(axis=-1),\n",
    "    MaxPooling2D(pool_size=(2, 2)),\n",
    "    Dropout(0.25),\n",
    "    Flatten(),\n",
    "    Dense(512, activation='relu'),\n",
    "    BatchNormalization(),\n",
    "    Dropout(0.5),\n",
    "    Dense(10, activation='softmax')\n",
    "])"
   ]
  },
  {
   "cell_type": "code",
   "execution_count": 9,
   "metadata": {},
   "outputs": [],
   "source": [
    "model2.compile(loss='sparse_categorical_crossentropy', optimizer='adam',\n",
    "              metrics=['accuracy'])"
   ]
  },
  {
   "cell_type": "code",
   "execution_count": 14,
   "metadata": {},
   "outputs": [
    {
     "data": {
      "text/plain": [
       "(60000, 10)"
      ]
     },
     "execution_count": 14,
     "metadata": {},
     "output_type": "execute_result"
    }
   ],
   "source": [
    "train_labels_cat.shape"
   ]
  },
  {
   "cell_type": "code",
   "execution_count": 15,
   "metadata": {
    "scrolled": true
   },
   "outputs": [
    {
     "name": "stdout",
     "output_type": "stream",
     "text": [
      "Train on 60000 samples, validate on 10000 samples\n",
      "Epoch 1/25\n",
      "60000/60000 [==============================] - 131s 2ms/sample - loss: 0.6151 - acc: 0.7867 - val_loss: 0.3894 - val_acc: 0.8568\n",
      "Epoch 2/25\n",
      "60000/60000 [==============================] - 154s 3ms/sample - loss: 0.3926 - acc: 0.8591 - val_loss: 0.3590 - val_acc: 0.8630s - loss: 0.3923 - \n",
      "Epoch 3/25\n",
      "60000/60000 [==============================] - 127s 2ms/sample - loss: 0.3447 - acc: 0.8770 - val_loss: 0.2834 - val_acc: 0.8968454\n",
      "Epoch 4/25\n",
      "60000/60000 [==============================] - 125s 2ms/sample - loss: 0.3106 - acc: 0.8899 - val_loss: 0.2764 - val_acc: 0.8960 0.88\n",
      "Epoch 5/25\n",
      "60000/60000 [==============================] - 126s 2ms/sample - loss: 0.2862 - acc: 0.8984 - val_loss: 0.2655 - val_acc: 0.9031 -\n",
      "Epoch 6/25\n",
      "60000/60000 [==============================] - 126s 2ms/sample - loss: 0.2710 - acc: 0.9034 - val_loss: 0.2419 - val_acc: 0.9135\n",
      "Epoch 7/25\n",
      "60000/60000 [==============================] - 134s 2ms/sample - loss: 0.2473 - acc: 0.9122 - val_loss: 0.2615 - val_acc: 0.9101\n",
      "Epoch 8/25\n",
      "60000/60000 [==============================] - 130s 2ms/sample - loss: 0.2348 - acc: 0.9160 - val_loss: 0.2345 - val_acc: 0.9172\n",
      "Epoch 9/25\n",
      "60000/60000 [==============================] - 132s 2ms/sample - loss: 0.2257 - acc: 0.9189 - val_loss: 0.2436 - val_acc: 0.9152.2255 - acc: 0.\n",
      "Epoch 10/25\n",
      "60000/60000 [==============================] - 134s 2ms/sample - loss: 0.2124 - acc: 0.9244 - val_loss: 0.2278 - val_acc: 0.9182\n",
      "Epoch 11/25\n",
      "60000/60000 [==============================] - 130s 2ms/sample - loss: 0.2007 - acc: 0.9277 - val_loss: 0.2322 - val_acc: 0.9179\n",
      "Epoch 12/25\n",
      "60000/60000 [==============================] - 131s 2ms/sample - loss: 0.1930 - acc: 0.9297 - val_loss: 0.2328 - val_acc: 0.9193\n",
      "Epoch 13/25\n",
      "60000/60000 [==============================] - 134s 2ms/sample - loss: 0.1858 - acc: 0.9327 - val_loss: 0.2316 - val_acc: 0.9191\n",
      "Epoch 14/25\n",
      "60000/60000 [==============================] - 142s 2ms/sample - loss: 0.1760 - acc: 0.9369 - val_loss: 0.2294 - val_acc: 0.9200\n",
      "Epoch 15/25\n",
      "60000/60000 [==============================] - 148s 2ms/sample - loss: 0.1741 - acc: 0.9363 - val_loss: 0.2168 - val_acc: 0.9237\n",
      "Epoch 16/25\n",
      "60000/60000 [==============================] - 149s 2ms/sample - loss: 0.1633 - acc: 0.9406 - val_loss: 0.2250 - val_acc: 0.9246\n",
      "Epoch 17/25\n",
      "60000/60000 [==============================] - 154s 3ms/sample - loss: 0.1578 - acc: 0.9421 - val_loss: 0.2340 - val_acc: 0.9193\n",
      "Epoch 18/25\n",
      "60000/60000 [==============================] - 153s 3ms/sample - loss: 0.1531 - acc: 0.9441 - val_loss: 0.2288 - val_acc: 0.9217\n",
      "Epoch 19/25\n",
      "60000/60000 [==============================] - 151s 3ms/sample - loss: 0.1474 - acc: 0.9465 - val_loss: 0.2303 - val_acc: 0.9231\n",
      "Epoch 20/25\n",
      "60000/60000 [==============================] - 152s 3ms/sample - loss: 0.1420 - acc: 0.9479 - val_loss: 0.2475 - val_acc: 0.9227\n",
      "Epoch 21/25\n",
      "60000/60000 [==============================] - 154s 3ms/sample - loss: 0.1400 - acc: 0.9494 - val_loss: 0.2358 - val_acc: 0.9202\n",
      "Epoch 22/25\n",
      "60000/60000 [==============================] - 160s 3ms/sample - loss: 0.1356 - acc: 0.9507 - val_loss: 0.2292 - val_acc: 0.9234\n",
      "Epoch 23/25\n",
      "60000/60000 [==============================] - 160s 3ms/sample - loss: 0.1346 - acc: 0.9509 - val_loss: 0.2356 - val_acc: 0.9204\n",
      "Epoch 24/25\n",
      "60000/60000 [==============================] - 162s 3ms/sample - loss: 0.1303 - acc: 0.9526 - val_loss: 0.2367 - val_acc: 0.9252\n",
      "Epoch 25/25\n",
      "60000/60000 [==============================] - 166s 3ms/sample - loss: 0.1247 - acc: 0.9537 - val_loss: 0.2422 - val_acc: 0.9252\n"
     ]
    },
    {
     "data": {
      "text/plain": [
       "<tensorflow.python.keras.callbacks.History at 0x28b314e3e80>"
      ]
     },
     "execution_count": 15,
     "metadata": {},
     "output_type": "execute_result"
    }
   ],
   "source": [
    "model2.fit(train_images_reshape,\n",
    "          train_labels,\n",
    "          validation_data=(test_images_reshape, test_labels),\n",
    "          epochs=10,\n",
    "          batch_size=25)"
   ]
  },
  {
   "cell_type": "markdown",
   "metadata": {},
   "source": [
    "Personal best of\n",
    "* loss: 0.1303\n",
    "* acc: 0.9526\n",
    "* val_loss: 0.2367\n",
    "* val_acc: 0.9252\n",
    "\n",
    "with a NN over 25 epochs:\n",
    "* 2d CNN 32 (5, 5) relu\n",
    "* normalization, axis=-1\n",
    "* 2d CNN 32 (5, 5) relu\n",
    "* normalization, axis=-1\n",
    "* 2d max pooling (2, 2)\n",
    "* dropout p = 0.25\n",
    "* 2d CNN 64 (5, 5) relu\n",
    "* normalization, axis=-1\n",
    "* 2d CNN 64 (5, 5) relu\n",
    "* normalization, axis=-1\n",
    "* 2d max pooling (2, 2)\n",
    "* dropout p = 0.25\n",
    "* flatten\n",
    "* dense 512 relu\n",
    "* normalization\n",
    "* dropout p = 0.5\n",
    "* dense 10 softmax"
   ]
  },
  {
   "cell_type": "markdown",
   "metadata": {},
   "source": [
    "This model is clearly overfitting, going to try some regularization"
   ]
  },
  {
   "cell_type": "markdown",
   "metadata": {},
   "source": [
    "## Model 3 ##"
   ]
  },
  {
   "cell_type": "code",
   "execution_count": 17,
   "metadata": {},
   "outputs": [
    {
     "name": "stdout",
     "output_type": "stream",
     "text": [
      "WARNING:tensorflow:From C:\\tools\\Anaconda3\\lib\\site-packages\\tensorflow\\python\\keras\\initializers.py:119: calling RandomUniform.__init__ (from tensorflow.python.ops.init_ops) with dtype is deprecated and will be removed in a future version.\n",
      "Instructions for updating:\n",
      "Call initializer instance with the dtype argument instead of passing it to the constructor\n",
      "WARNING:tensorflow:From C:\\tools\\Anaconda3\\lib\\site-packages\\tensorflow\\python\\keras\\initializers.py:143: calling RandomNormal.__init__ (from tensorflow.python.ops.init_ops) with dtype is deprecated and will be removed in a future version.\n",
      "Instructions for updating:\n",
      "Call initializer instance with the dtype argument instead of passing it to the constructor\n"
     ]
    }
   ],
   "source": [
    "model3 = Sequential([\n",
    "    BatchNormalization(axis=-1, input_shape=(28, 28, 1)),\n",
    "    Conv2D(64, [5, 5],\n",
    "           activation='relu',\n",
    "          bias_initializer='RandomNormal',\n",
    "          kernel_initializer='random_uniform'),\n",
    "    MaxPooling2D(pool_size=(2,2)),\n",
    "    Conv2D(512, [5, 5],\n",
    "           activation='relu'),\n",
    "    BatchNormalization(axis=-1),\n",
    "    MaxPooling2D(pool_size=(2,2)),\n",
    "    Flatten(),\n",
    "    Dense(128,\n",
    "          activation='relu'),\n",
    "    Dropout(0.4),\n",
    "    Dense(64, activation='relu'),\n",
    "    Dropout(0.4),\n",
    "    Dense(10, activation='softmax')\n",
    "])"
   ]
  },
  {
   "cell_type": "code",
   "execution_count": 18,
   "metadata": {},
   "outputs": [],
   "source": [
    "model3.compile(loss='sparse_categorical_crossentropy',\n",
    "               optimizer='adam',\n",
    "              metrics=['accuracy'])"
   ]
  },
  {
   "cell_type": "code",
   "execution_count": 19,
   "metadata": {
    "scrolled": true
   },
   "outputs": [
    {
     "name": "stdout",
     "output_type": "stream",
     "text": [
      "Train on 60000 samples, validate on 10000 samples\n",
      "Epoch 1/10\n",
      "60000/60000 [==============================] - 398s 7ms/sample - loss: 0.6938 - acc: 0.7628 - val_loss: 0.4642 - val_acc: 0.8376\n",
      "Epoch 2/10\n",
      "60000/60000 [==============================] - 385s 6ms/sample - loss: 0.4443 - acc: 0.8483 - val_loss: 0.3419 - val_acc: 0.8782\n",
      "Epoch 3/10\n",
      "60000/60000 [==============================] - 410s 7ms/sample - loss: 0.3801 - acc: 0.8697 - val_loss: 0.3189 - val_acc: 0.8848\n",
      "Epoch 4/10\n",
      "60000/60000 [==============================] - 422s 7ms/sample - loss: 0.3496 - acc: 0.8798 - val_loss: 0.3261 - val_acc: 0.8859\n",
      "Epoch 5/10\n",
      "60000/60000 [==============================] - 408s 7ms/sample - loss: 0.3220 - acc: 0.8882 - val_loss: 0.3368 - val_acc: 0.8878\n",
      "Epoch 6/10\n",
      "60000/60000 [==============================] - 396s 7ms/sample - loss: 0.2997 - acc: 0.8957 - val_loss: 0.3090 - val_acc: 0.8891\n",
      "Epoch 7/10\n",
      "60000/60000 [==============================] - 400s 7ms/sample - loss: 0.2835 - acc: 0.9020 - val_loss: 0.2804 - val_acc: 0.9025\n",
      "Epoch 8/10\n",
      "60000/60000 [==============================] - 407s 7ms/sample - loss: 0.2702 - acc: 0.9057 - val_loss: 0.2751 - val_acc: 0.9038\n",
      "Epoch 9/10\n",
      "60000/60000 [==============================] - 401s 7ms/sample - loss: 0.2532 - acc: 0.9111 - val_loss: 0.2885 - val_acc: 0.9026\n",
      "Epoch 10/10\n",
      "60000/60000 [==============================] - 418s 7ms/sample - loss: 0.2479 - acc: 0.9141 - val_loss: 0.2854 - val_acc: 0.9077\n"
     ]
    },
    {
     "data": {
      "text/plain": [
       "<tensorflow.python.keras.callbacks.History at 0x2165866bb38>"
      ]
     },
     "execution_count": 19,
     "metadata": {},
     "output_type": "execute_result"
    }
   ],
   "source": [
    "model3.fit(train_images_reshape, train_labels,\n",
    "          validation_data=(test_images_reshape, test_labels),\n",
    "          epochs = 10,\n",
    "          batch_size = 25)"
   ]
  },
  {
   "cell_type": "code",
   "execution_count": null,
   "metadata": {},
   "outputs": [],
   "source": []
  }
 ],
 "metadata": {
  "kernelspec": {
   "display_name": "Python 3",
   "language": "python",
   "name": "python3"
  },
  "language_info": {
   "codemirror_mode": {
    "name": "ipython",
    "version": 3
   },
   "file_extension": ".py",
   "mimetype": "text/x-python",
   "name": "python",
   "nbconvert_exporter": "python",
   "pygments_lexer": "ipython3",
   "version": "3.7.3"
  }
 },
 "nbformat": 4,
 "nbformat_minor": 2
}
